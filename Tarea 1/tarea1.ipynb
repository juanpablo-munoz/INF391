{
 "cells": [
  {
   "cell_type": "markdown",
   "metadata": {},
   "source": [
    "<img src=\"static/escudo_utfsm.gif\" style=\"float:right;height:80px\">\n",
    "<img src=\"static/IsotipoDIisocolor.png\" style=\"float:left;height:80px\">\n",
    "<br>\n",
    "<center>\n",
    "    <h1>INF391 - Reconocimiento de Patrones en Minería de Datos</h1>\n",
    "    <h1>Tarea 1: Técnicas de <i>Clustering</i></h1>\n",
    "    <h2>Francisca Ramírez</h2>\n",
    "    <h2>Juan Pablo Muñoz</h2>\n",
    "    <h5>17 de abril del 2019</h5>\n",
    "</center>\n",
    "\n",
    "---"
   ]
  },
  {
   "cell_type": "markdown",
   "metadata": {},
   "source": [
    "### Introducción"
   ]
  },
  {
   "cell_type": "markdown",
   "metadata": {},
   "source": [
    "En esta tarea se exploran distintas técnicas de reconocimiento de patrones basadas en *clustering* vistas en cátedra. Para ello, se cuenta con tres pequeños *datasets* con distintas características, que servirán para contrastar la aptitud que cada técnica posee para cada caso.\n",
    "\n",
    "Luego de la experimentación, se responden las dos preguntas conceptuales planteadas en el enunciado.\n",
    "\n",
    "---"
   ]
  },
  {
   "cell_type": "markdown",
   "metadata": {},
   "source": [
    "### Parte I"
   ]
  },
  {
   "cell_type": "markdown",
   "metadata": {},
   "source": [
    "Primero, se prepara la ingesta de datos."
   ]
  },
  {
   "cell_type": "code",
   "execution_count": 1,
   "metadata": {},
   "outputs": [],
   "source": [
    "import os.path\n",
    "import numpy as np\n",
    "\n",
    "def ingest_dataset(txt_dir):\n",
    "    dataset = list()\n",
    "    if os.path.exists(txt_dir):\n",
    "        with open(txt_dir, 'r') as f:\n",
    "            for line in f.readlines():\n",
    "                data_point = line.split()\n",
    "                x_coord, y_coord = float(data_point[0]), float(data_point[1])\n",
    "                dataset.append([x_coord, y_coord])\n",
    "    return np.array(dataset)"
   ]
  },
  {
   "cell_type": "markdown",
   "metadata": {},
   "source": [
    "Y se instancian los tres datasets."
   ]
  },
  {
   "cell_type": "code",
   "execution_count": 2,
   "metadata": {},
   "outputs": [],
   "source": [
    "smile = ingest_dataset('smile.txt')\n",
    "mouse = ingest_dataset('mouse.txt')\n",
    "spiral = ingest_dataset('spiral.txt')"
   ]
  },
  {
   "cell_type": "markdown",
   "metadata": {},
   "source": [
    "### (Hacer plot y breve análisis de cada dataset: hablar sobre cantidad de datos, presencia obvia de clusters, densidad de éstos, convexidad, etc.)"
   ]
  },
  {
   "cell_type": "markdown",
   "metadata": {},
   "source": [
    "---\n",
    "\n",
    "A continuación, se procede a aplicar las técnicas de *clustering*."
   ]
  },
  {
   "cell_type": "markdown",
   "metadata": {},
   "source": [
    "#### 1. K-Means"
   ]
  },
  {
   "cell_type": "code",
   "execution_count": 64,
   "metadata": {},
   "outputs": [
    {
     "data": {
      "application/vnd.jupyter.widget-view+json": {
       "model_id": "a99facebbeab4b4ebd7179f1b09f4c59",
       "version_major": 2,
       "version_minor": 0
      },
      "text/plain": [
       "interactive(children=(Dropdown(description='dataset_name', options=('smile', 'mouse', 'spiral'), value='smile'…"
      ]
     },
     "metadata": {},
     "output_type": "display_data"
    }
   ],
   "source": [
    "from sklearn.cluster import KMeans\n",
    "import matplotlib.pyplot as plt\n",
    "from ipywidgets import interact\n",
    "from ipywidgets import FloatSlider\n",
    "\n",
    "def apply_kmeans(dataset, k, max_iterations=300, tolerance=1e-4):\n",
    "    kmeans = KMeans(\n",
    "        n_clusters=k,\n",
    "        init='random',\n",
    "        n_init=1,\n",
    "        max_iter=max_iterations,\n",
    "        tol=tolerance,\n",
    "        random_state=0,\n",
    "    )\n",
    "    kmeans.fit(dataset)\n",
    "    return kmeans.cluster_centers_, kmeans.labels_\n",
    "\n",
    "@interact(\n",
    "    dataset_name=['smile', 'mouse', 'spiral'],\n",
    "    k=(2,10, 1),\n",
    "    max_iterations=(10, 100, 10),\n",
    "    tolerance=FloatSlider(min=5e-5, max=5e-4, step=5e-5, continuous_update=False),\n",
    ")\n",
    "def plot_kmeans(dataset_name, k, max_iterations, tolerance):\n",
    "    if dataset_name == 'smile':\n",
    "        dataset = smile\n",
    "    elif dataset_name == 'mouse':\n",
    "        dataset = mouse\n",
    "    elif dataset_name == 'spiral':\n",
    "        dataset = spiral\n",
    "    centroids, labels = apply_kmeans(dataset, k, max_iterations, tolerance)\n",
    "    plt.figure(figsize=(12,12))\n",
    "    plt.scatter(dataset[:, 0], dataset[:, 1], marker='o', c=labels, \n",
    "                edgecolors='k', s=60, cmap=plt.cm.ocean)\n",
    "    plt.scatter(centroids[:, 0], centroids[:, 1], marker='X', s=150, \n",
    "                linewidths=.5, c='gray', cmap=plt.cm.ocean, label='Centroide')\n",
    "    plt.scatter(centroids[:, 0], centroids[:, 1], marker='x', s=100, \n",
    "                linewidths=2, c=list(range(len(centroids))), \n",
    "                cmap=plt.cm.ocean)\n",
    "    plt.title('Algoritmo: KMeans | dataset: {} | k={} | Máx. Iters={} | Tolerancia={}'.format(dataset_name, k, max_iterations, tolerance))\n",
    "    plt.legend(loc='upper left')"
   ]
  },
  {
   "cell_type": "markdown",
   "metadata": {},
   "source": [
    "#### Análisis K-Means\n",
    "\n",
    "Bla...\n",
    "\n",
    "---"
   ]
  },
  {
   "cell_type": "markdown",
   "metadata": {},
   "source": [
    "#### 2. Agglomerative Hierarchical Clustering"
   ]
  },
  {
   "cell_type": "code",
   "execution_count": 42,
   "metadata": {},
   "outputs": [
    {
     "data": {
      "application/vnd.jupyter.widget-view+json": {
       "model_id": "c0143fc1a5ee4009855c05dd183f0ea9",
       "version_major": 2,
       "version_minor": 0
      },
      "text/plain": [
       "interactive(children=(Dropdown(description='dataset_name', options=('smile', 'mouse', 'spiral'), value='smile'…"
      ]
     },
     "metadata": {},
     "output_type": "display_data"
    }
   ],
   "source": [
    "from sklearn.cluster import AgglomerativeClustering\n",
    "\n",
    "def apply_hac(dataset, linkage, n_clusters):\n",
    "    hac = AgglomerativeClustering(n_clusters=n_clusters, linkage=linkage)\n",
    "    hac.fit(dataset)\n",
    "    return hac.labels_\n",
    "\n",
    "@interact(\n",
    "    dataset_name=['smile', 'mouse', 'spiral'],\n",
    "    linkage=['single', 'complete'],\n",
    "    n_clusters=(2,10, 1),\n",
    ")\n",
    "def plot_hac(dataset_name, linkage, n_clusters):\n",
    "    if dataset_name == 'smile':\n",
    "        dataset = smile\n",
    "    elif dataset_name == 'mouse':\n",
    "        dataset = mouse\n",
    "    elif dataset_name == 'spiral':\n",
    "        dataset = spiral\n",
    "    \n",
    "    labels = apply_hac(dataset, linkage, n_clusters)\n",
    "    plt.figure(figsize=(12,12))\n",
    "    plt.scatter(dataset[:, 0], dataset[:, 1], marker='o', c=labels, \n",
    "                edgecolors='k', s=60, cmap=plt.cm.PiYG)\n",
    "    plt.title('Algoritmo: HAC (linkage: {}) | dataset: {} | n_clusters={}'.format(linkage, dataset_name, n_clusters))\n"
   ]
  },
  {
   "cell_type": "markdown",
   "metadata": {},
   "source": [
    "#### Análisis Agglomerative Hierarchical Clustering\n",
    "\n",
    "Bla...\n",
    "\n",
    "---"
   ]
  },
  {
   "cell_type": "markdown",
   "metadata": {},
   "source": [
    "#### 3. DBSCAN"
   ]
  },
  {
   "cell_type": "code",
   "execution_count": 62,
   "metadata": {},
   "outputs": [
    {
     "data": {
      "application/vnd.jupyter.widget-view+json": {
       "model_id": "87951127bd49445db29a389a68d82d9c",
       "version_major": 2,
       "version_minor": 0
      },
      "text/plain": [
       "interactive(children=(Dropdown(description='dataset_name', options=('smile', 'mouse', 'spiral'), value='smile'…"
      ]
     },
     "metadata": {},
     "output_type": "display_data"
    }
   ],
   "source": [
    "from sklearn.cluster import DBSCAN\n",
    "\n",
    "def apply_dbscan(dataset, min_pts, eps):\n",
    "    dbscan = DBSCAN(eps=eps, min_samples=min_pts)\n",
    "    dbscan.fit(dataset)\n",
    "    core_samples_mask = np.zeros_like(dbscan.labels_, dtype=bool)\n",
    "    core_samples_mask[dbscan.core_sample_indices_] = True\n",
    "    noise_points_mask = (dbscan.labels_ == -1)\n",
    "    border_points_mask = np.zeros_like(dbscan.labels_, dtype=bool)\n",
    "    border_points_mask[~core_samples_mask & ~noise_points_mask] = True\n",
    "    \n",
    "    # Number of clusters in labels, ignoring noise if present.\n",
    "    n_clusters_ = len(set(dbscan.labels_)) - (1 if -1 in dbscan.labels_ \\\n",
    "                                              else 0)\n",
    "    n_noise_ = list(dbscan.labels_).count(-1)\n",
    "    return dbscan.labels_, n_clusters_, n_noise_, core_samples_mask, \\\n",
    "        border_points_mask, noise_points_mask\n",
    "\n",
    "@interact(\n",
    "    dataset_name=['smile', 'mouse', 'spiral'],\n",
    "    min_pts=(1,50, 1),\n",
    "    eps=(0.01, 5.0, 0.01),\n",
    ")\n",
    "def plot_dbscan(dataset_name, min_pts, eps):\n",
    "    if dataset_name == 'smile':\n",
    "        dataset = smile\n",
    "    elif dataset_name == 'mouse':\n",
    "        dataset = mouse\n",
    "    elif dataset_name == 'spiral':\n",
    "        dataset = spiral\n",
    "    labels, n_clusters, n_noise, core_samples_mask, border_points_mask,\\\n",
    "    noise_points_mask = apply_dbscan(dataset, min_pts, eps)\n",
    "    core_points = dataset[core_samples_mask]\n",
    "    border_points = dataset[border_points_mask]\n",
    "    noise_points = dataset[noise_points_mask]\n",
    "    n_clusters = len(set(labels)) - (1 if -1 in labels else 0)\n",
    "    plt.figure(figsize=(12,12))\n",
    "    # Plot core samples\n",
    "    plt.scatter(core_points[:, 0], core_points[:, 1], marker='o', \n",
    "                c=labels[core_samples_mask], edgecolors='k', s=60, \n",
    "                cmap=plt.cm.tab20, label='Core')\n",
    "    # Plot border points\n",
    "    plt.scatter(border_points[:, 0], border_points[:, 1], marker='o', \n",
    "                c=labels[border_points_mask], edgecolors='k', s=20, \n",
    "                cmap=plt.cm.tab20, label='Border')\n",
    "    # Plot noise points\n",
    "    plt.scatter(noise_points[:, 0], noise_points[:, 1], marker='o', \n",
    "                c='black', edgecolors='k', s=20, \n",
    "                cmap=plt.cm.tab20, label='Noise')\n",
    "    plt.title('Algoritmo: DBSCAN | dataset: {} | eps={} | min_samples={}\\n\\\n",
    "Clusters resultantes: {} | Core samples: {} | Border points: {} | Noise points: {}'\n",
    "              .format(dataset_name, eps, min_pts, n_clusters, \n",
    "                      len(core_points), len(border_points), \n",
    "                      len(noise_points)))\n",
    "    plt.legend(loc='upper left')\n"
   ]
  },
  {
   "cell_type": "markdown",
   "metadata": {},
   "source": [
    "#### Análisis DBSCAN\n",
    "\n",
    "Bla...\n",
    "\n",
    "---"
   ]
  },
  {
   "cell_type": "markdown",
   "metadata": {},
   "source": [
    "#### 4. Mean-shift"
   ]
  },
  {
   "cell_type": "code",
   "execution_count": 67,
   "metadata": {},
   "outputs": [
    {
     "data": {
      "application/vnd.jupyter.widget-view+json": {
       "model_id": "65df108dd2cc4fa19018e66d84d7dd81",
       "version_major": 2,
       "version_minor": 0
      },
      "text/plain": [
       "interactive(children=(Dropdown(description='dataset_name', options=('smile', 'mouse', 'spiral'), value='smile'…"
      ]
     },
     "metadata": {},
     "output_type": "display_data"
    }
   ],
   "source": [
    "from sklearn.cluster import MeanShift\n",
    "\n",
    "def apply_meanshift(dataset, bandwidth):\n",
    "    meanshift = MeanShift(bandwidth=bandwidth)\n",
    "    meanshift.fit(dataset)\n",
    "    return meanshift.cluster_centers_, meanshift.labels_\n",
    "\n",
    "@interact(\n",
    "    dataset_name=['smile', 'mouse', 'spiral'],\n",
    "    bandwidth=(0.1, 10, 0.1),\n",
    ")\n",
    "def plot_kmeans(dataset_name, bandwidth):\n",
    "    if dataset_name == 'smile':\n",
    "        dataset = smile\n",
    "    elif dataset_name == 'mouse':\n",
    "        dataset = mouse\n",
    "    elif dataset_name == 'spiral':\n",
    "        dataset = spiral\n",
    "    centroids, labels = apply_meanshift(dataset, bandwidth=bandwidth)\n",
    "    plt.figure(figsize=(12,12))\n",
    "    plt.scatter(dataset[:, 0], dataset[:, 1], marker='o', c=labels, \n",
    "                edgecolors='k', s=60, cmap=plt.cm.tab20)\n",
    "    plt.scatter(centroids[:, 0], centroids[:, 1], marker='X', s=150, \n",
    "                linewidths=.5, c='gray', cmap=plt.cm.tab20, label='Centroide')\n",
    "    plt.scatter(centroids[:, 0], centroids[:, 1], marker='x', s=100, \n",
    "                linewidths=2, c=list(range(len(centroids))), \n",
    "                cmap=plt.cm.tab20)\n",
    "    plt.title('Algoritmo: Mean-shift | dataset: {} | bandwidth={}\\nClusters resultantes: {}'.format(dataset_name, bandwidth, len(centroids)))\n",
    "    plt.legend(loc='upper left')"
   ]
  },
  {
   "cell_type": "markdown",
   "metadata": {},
   "source": [
    "#### Análisis Mean-shift\n",
    "\n",
    "Bla...\n",
    "\n",
    "---"
   ]
  },
  {
   "cell_type": "markdown",
   "metadata": {},
   "source": [
    "#### 5. Spectral clustering"
   ]
  },
  {
   "cell_type": "code",
   "execution_count": null,
   "metadata": {},
   "outputs": [],
   "source": [
    "from sklearn.cluster import SpectralClustering\n",
    "\n",
    "def generate_affinity_matrix(dataset, method):\n",
    "    # METHOD -> PARAMETERS\n",
    "    # epsilon-ball -> epsilon\n",
    "    # k-nearest -> k\n",
    "    # fully connected -> (no parameters)\n",
    "    # RBF kernel -> delta (kernel width)\n",
    "\n",
    "def apply_spectral(dataset, n_clusters, random_state=0, n_init=1,):\n",
    "    return"
   ]
  }
 ],
 "metadata": {
  "kernelspec": {
   "display_name": "Python 3",
   "language": "python",
   "name": "python3"
  },
  "language_info": {
   "codemirror_mode": {
    "name": "ipython",
    "version": 3
   },
   "file_extension": ".py",
   "mimetype": "text/x-python",
   "name": "python",
   "nbconvert_exporter": "python",
   "pygments_lexer": "ipython3",
   "version": "3.6.5"
  }
 },
 "nbformat": 4,
 "nbformat_minor": 2
}
