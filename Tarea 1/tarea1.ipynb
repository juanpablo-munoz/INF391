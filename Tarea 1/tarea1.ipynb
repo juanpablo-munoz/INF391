{
 "cells": [
  {
   "cell_type": "markdown",
   "metadata": {},
   "source": [
    "<img src=\"static/escudo_utfsm.gif\" style=\"float:right;height:80px\">\n",
    "<img src=\"static/IsotipoDIisocolor.png\" style=\"float:left;height:80px\">\n",
    "<br>\n",
    "<center>\n",
    "    <h1>INF391 - Reconocimiento de Patrones en Minería de Datos</h1>\n",
    "    <h1>Tarea 1: Técnicas de <i>Clustering</i></h1>\n",
    "    <h2>Francisca Ramírez</h2>\n",
    "    <h2>Juan Pablo Muñoz</h2>\n",
    "    <h5>17 de abril del 2019</h5>\n",
    "</center>\n",
    "\n",
    "---"
   ]
  },
  {
   "cell_type": "markdown",
   "metadata": {},
   "source": [
    "### Introducción"
   ]
  },
  {
   "cell_type": "markdown",
   "metadata": {},
   "source": [
    "En esta tarea se exploran distintas técnicas de reconocimiento de patrones basadas en *clustering* vistas en cátedra. Para ello, se cuenta con tres pequeños *datasets* con distintas características, que servirán para contrastar la aptitud que cada técnica posee para cada caso.\n",
    "\n",
    "Luego de la experimentación, se responden las dos preguntas conceptuales planteadas en el enunciado.\n",
    "\n",
    "---"
   ]
  },
  {
   "cell_type": "markdown",
   "metadata": {},
   "source": [
    "### Parte I"
   ]
  },
  {
   "cell_type": "markdown",
   "metadata": {},
   "source": [
    "Primero, se prepara la ingesta de datos."
   ]
  },
  {
   "cell_type": "code",
   "execution_count": 1,
   "metadata": {},
   "outputs": [],
   "source": [
    "import os.path\n",
    "import numpy as np\n",
    "\n",
    "def ingest_dataset(txt_dir):\n",
    "    dataset = list()\n",
    "    if os.path.exists(txt_dir):\n",
    "        with open(txt_dir, 'r') as f:\n",
    "            for line in f.readlines():\n",
    "                data_point = line.split()\n",
    "                x_coord, y_coord = float(data_point[0]), float(data_point[1])\n",
    "                dataset.append([x_coord, y_coord])\n",
    "    return np.array(dataset)"
   ]
  },
  {
   "cell_type": "markdown",
   "metadata": {},
   "source": [
    "Y se instancian los tres datasets."
   ]
  },
  {
   "cell_type": "code",
   "execution_count": 2,
   "metadata": {},
   "outputs": [],
   "source": [
    "smile = ingest_dataset('smile.txt')\n",
    "mouse = ingest_dataset('mouse.txt')\n",
    "spiral = ingest_dataset('spiral.txt')"
   ]
  },
  {
   "cell_type": "markdown",
   "metadata": {},
   "source": [
    "---\n",
    "\n",
    "A continuación, se procede a aplicar las técnicas de *clustering*."
   ]
  },
  {
   "cell_type": "markdown",
   "metadata": {},
   "source": [
    "#### 1. K-Means"
   ]
  },
  {
   "cell_type": "code",
   "execution_count": 5,
   "metadata": {},
   "outputs": [
    {
     "data": {
      "application/vnd.jupyter.widget-view+json": {
       "model_id": "c545e94f374e4370819a62b03e626a02",
       "version_major": 2,
       "version_minor": 0
      },
      "text/plain": [
       "interactive(children=(Dropdown(description='dataset_name', options=('smile', 'mouse', 'spiral'), value='smile'…"
      ]
     },
     "metadata": {},
     "output_type": "display_data"
    }
   ],
   "source": [
    "from sklearn.cluster import KMeans\n",
    "import matplotlib.pyplot as plt\n",
    "from ipywidgets import interact\n",
    "from ipywidgets import FloatSlider\n",
    "\n",
    "def apply_kmeans(dataset, k, max_iterations=300, tolerance=1e-4):\n",
    "    kmeans = KMeans(\n",
    "        n_clusters=k,\n",
    "        init='random',\n",
    "        n_init=1,\n",
    "        max_iter=max_iterations,\n",
    "        tol=tolerance,\n",
    "        random_state=0,\n",
    "    )\n",
    "    kmeans.fit(dataset)\n",
    "    return kmeans.cluster_centers_, kmeans.labels_\n",
    "\n",
    "@interact(\n",
    "    dataset_name=['smile', 'mouse', 'spiral'],\n",
    "    k=(2,10, 1),\n",
    "    max_iterations=(10, 300, 10),\n",
    "    tolerance=FloatSlider(min=5e-5, max=5e-4, step=5e-5, continuous_update=False),\n",
    ")\n",
    "def plot_kmeans(dataset_name, k, max_iterations, tolerance):\n",
    "    if dataset_name == 'smile':\n",
    "        dataset = smile\n",
    "    elif dataset_name == 'mouse':\n",
    "        dataset = mouse\n",
    "    elif dataset_name == 'spiral':\n",
    "        dataset = spiral\n",
    "    centroids, labels = apply_kmeans(dataset, k, max_iterations, tolerance)\n",
    "    plt.figure(figsize=(12,12))\n",
    "    plt.scatter(dataset[:, 0], dataset[:, 1], c=labels)\n",
    "    plt.scatter(centroids[:, 0], centroids[:, 1], marker='X', s=150, linewidths=.5, c='gray')\n",
    "    plt.scatter(centroids[:, 0], centroids[:, 1], marker='x', s=100, linewidths=2, c=list(range(len(centroids))))\n",
    "    plt.title('Algoritmo: KMeans | dataset: {} | k={} | Máx. Iters={} | Tolerancia={}'.format(dataset_name, k, max_iterations, tolerance))\n"
   ]
  },
  {
   "cell_type": "markdown",
   "metadata": {},
   "source": [
    "#### Análisis K-Means\n",
    "\n",
    "Bla...\n",
    "\n",
    "---"
   ]
  },
  {
   "cell_type": "markdown",
   "metadata": {},
   "source": [
    "#### 2. Agglomerative Hierarchical Clustering"
   ]
  },
  {
   "cell_type": "code",
   "execution_count": 4,
   "metadata": {},
   "outputs": [
    {
     "data": {
      "application/vnd.jupyter.widget-view+json": {
       "model_id": "cb809bddd61b43ddb6b0fa756f3bbc0f",
       "version_major": 2,
       "version_minor": 0
      },
      "text/plain": [
       "interactive(children=(Dropdown(description='dataset_name', options=('smile', 'mouse', 'spiral'), value='smile'…"
      ]
     },
     "metadata": {},
     "output_type": "display_data"
    }
   ],
   "source": [
    "from sklearn.cluster import AgglomerativeClustering\n",
    "\n",
    "def apply_hac(dataset, linkage, n_clusters):\n",
    "    hac = AgglomerativeClustering(n_clusters=n_clusters, linkage=linkage)\n",
    "    hac.fit(dataset)\n",
    "    return hac.labels_\n",
    "\n",
    "@interact(\n",
    "    dataset_name=['smile', 'mouse', 'spiral'],\n",
    "    linkage=['single', 'complete'],\n",
    "    n_clusters=(2,10, 1),\n",
    ")\n",
    "def plot_hac(dataset_name, linkage, n_clusters):\n",
    "    if dataset_name == 'smile':\n",
    "        dataset = smile\n",
    "    elif dataset_name == 'mouse':\n",
    "        dataset = mouse\n",
    "    elif dataset_name == 'spiral':\n",
    "        dataset = spiral\n",
    "    \n",
    "    labels = apply_hac(dataset, linkage, n_clusters)\n",
    "    plt.figure(figsize=(12,12))\n",
    "    plt.scatter(dataset[:, 0], dataset[:, 1], c=labels)\n",
    "    plt.title('Algoritmo: HAC (linkage: {}) | dataset: {} | n_clusters={}'.format(linkage, dataset_name, n_clusters))\n"
   ]
  },
  {
   "cell_type": "markdown",
   "metadata": {},
   "source": [
    "#### Análisis Agglomerative Hierarchical Clustering\n",
    "\n",
    "Bla...\n",
    "\n",
    "---"
   ]
  },
  {
   "cell_type": "code",
   "execution_count": null,
   "metadata": {},
   "outputs": [],
   "source": []
  }
 ],
 "metadata": {
  "kernelspec": {
   "display_name": "Python 3",
   "language": "python",
   "name": "python3"
  },
  "language_info": {
   "codemirror_mode": {
    "name": "ipython",
    "version": 3
   },
   "file_extension": ".py",
   "mimetype": "text/x-python",
   "name": "python",
   "nbconvert_exporter": "python",
   "pygments_lexer": "ipython3",
   "version": "3.6.5"
  }
 },
 "nbformat": 4,
 "nbformat_minor": 2
}
